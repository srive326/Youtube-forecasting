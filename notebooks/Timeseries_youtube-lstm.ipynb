{
 "cells": [
  {
   "cell_type": "markdown",
   "metadata": {},
   "source": [
    "Stephanie"
   ]
  },
  {
   "cell_type": "code",
   "execution_count": 1,
   "metadata": {},
   "outputs": [
    {
     "name": "stderr",
     "output_type": "stream",
     "text": [
      "/Users/stephanier/anaconda/lib/python3.6/site-packages/statsmodels/compat/pandas.py:56: FutureWarning: The pandas.core.datetools module is deprecated and will be removed in a future version. Please use the pandas.tseries module instead.\n",
      "  from pandas.core import datetools\n",
      "/Users/stephanier/anaconda/lib/python3.6/site-packages/h5py/__init__.py:34: FutureWarning: Conversion of the second argument of issubdtype from `float` to `np.floating` is deprecated. In future, it will be treated as `np.float64 == np.dtype(float).type`.\n",
      "  from ._conv import register_converters as _register_converters\n",
      "Using TensorFlow backend.\n"
     ]
    }
   ],
   "source": [
    "import pandas as pd\n",
    "from datetime import datetime\n",
    "import matplotlib.pyplot as plt\n",
    "import statsmodels.api as sm\n",
    "import numpy as np\n",
    "from statsmodels.tsa.stattools import arma_order_select_ic\n",
    "from sklearn.preprocessing import MinMaxScaler\n",
    "import numpy\n",
    "import math\n",
    "from keras.models import Sequential\n",
    "from keras.layers import Dense\n",
    "from keras.layers import LSTM\n",
    "from sklearn.preprocessing import MinMaxScaler\n",
    "from sklearn.metrics import mean_squared_error"
   ]
  },
  {
   "cell_type": "code",
   "execution_count": 105,
   "metadata": {
    "collapsed": true
   },
   "outputs": [],
   "source": [
    "data = pd.read_csv(\"/Users/stephanier/Desktop/time/Youtube-forecasting/data/youtube_econ.csv\",index_col=0)"
   ]
  },
  {
   "cell_type": "code",
   "execution_count": 106,
   "metadata": {
    "collapsed": true
   },
   "outputs": [],
   "source": [
    "#get just the date and views\n",
    "daily_views = data[['Date','views']]\n",
    "len(daily_views)\n",
    "daily_views.index = pd.to_datetime(daily_views.Date)\n",
    "daily_views = daily_views.drop(['Date'], axis=1)"
   ]
  },
  {
   "cell_type": "code",
   "execution_count": 4,
   "metadata": {},
   "outputs": [
    {
     "data": {
      "text/html": [
       "<div>\n",
       "<style>\n",
       "    .dataframe thead tr:only-child th {\n",
       "        text-align: right;\n",
       "    }\n",
       "\n",
       "    .dataframe thead th {\n",
       "        text-align: left;\n",
       "    }\n",
       "\n",
       "    .dataframe tbody tr th {\n",
       "        vertical-align: top;\n",
       "    }\n",
       "</style>\n",
       "<table border=\"1\" class=\"dataframe\">\n",
       "  <thead>\n",
       "    <tr style=\"text-align: right;\">\n",
       "      <th></th>\n",
       "      <th>views</th>\n",
       "    </tr>\n",
       "    <tr>\n",
       "      <th>Date</th>\n",
       "      <th></th>\n",
       "    </tr>\n",
       "  </thead>\n",
       "  <tbody>\n",
       "    <tr>\n",
       "      <th>2017-11-14</th>\n",
       "      <td>185435246</td>\n",
       "    </tr>\n",
       "    <tr>\n",
       "      <th>2017-11-15</th>\n",
       "      <td>212445216</td>\n",
       "    </tr>\n",
       "    <tr>\n",
       "      <th>2017-11-16</th>\n",
       "      <td>227365391</td>\n",
       "    </tr>\n",
       "    <tr>\n",
       "      <th>2017-11-17</th>\n",
       "      <td>193541711</td>\n",
       "    </tr>\n",
       "    <tr>\n",
       "      <th>2017-11-18</th>\n",
       "      <td>196846875</td>\n",
       "    </tr>\n",
       "  </tbody>\n",
       "</table>\n",
       "</div>"
      ],
      "text/plain": [
       "                views\n",
       "Date                 \n",
       "2017-11-14  185435246\n",
       "2017-11-15  212445216\n",
       "2017-11-16  227365391\n",
       "2017-11-17  193541711\n",
       "2017-11-18  196846875"
      ]
     },
     "execution_count": 4,
     "metadata": {},
     "output_type": "execute_result"
    }
   ],
   "source": [
    "daily_views.head()"
   ]
  },
  {
   "cell_type": "code",
   "execution_count": 107,
   "metadata": {
    "collapsed": true
   },
   "outputs": [],
   "source": [
    "values = daily_views['views'].values.reshape(-1,1)\n",
    "values = values.astype('float32')\n",
    "scaler = MinMaxScaler(feature_range=(0,1))\n",
    "dataset = scaler.fit_transform(values)"
   ]
  },
  {
   "cell_type": "code",
   "execution_count": 108,
   "metadata": {},
   "outputs": [
    {
     "name": "stdout",
     "output_type": "stream",
     "text": [
      "139 69\n"
     ]
    }
   ],
   "source": [
    "# split into train and test sets\n",
    "train_size = int(len(dataset) * 0.67)\n",
    "test_size = len(dataset) - train_size\n",
    "train, test = dataset[0:train_size,:], dataset[train_size:len(dataset),:]\n",
    "print(len(train), len(test))\n",
    "\n",
    "# convert an array of values into a dataset matrix\n",
    "def create_dataset(dataset, look_back=1):\n",
    "\tdataX, dataY = [], []\n",
    "\tfor i in range(len(dataset)-look_back-1):\n",
    "\t\ta = dataset[i:(i+look_back), 0]\n",
    "\t\tdataX.append(a)\n",
    "\t\tdataY.append(dataset[i + look_back, 0])\n",
    "\treturn numpy.array(dataX), numpy.array(dataY)\n",
    "\n",
    "# reshape into X=t and Y=t+1\n",
    "look_back = 1\n",
    "trainX, trainY = create_dataset(train, look_back)\n",
    "testX, testY = create_dataset(test, look_back)\n",
    "\n",
    "# reshape input to be [samples, time steps, features]\n",
    "trainX = numpy.reshape(trainX, (trainX.shape[0], 1, trainX.shape[1]))\n",
    "testX = numpy.reshape(testX, (testX.shape[0], 1, testX.shape[1]))"
   ]
  },
  {
   "cell_type": "code",
   "execution_count": 109,
   "metadata": {},
   "outputs": [
    {
     "name": "stdout",
     "output_type": "stream",
     "text": [
      "Epoch 1/100\n",
      " - 1s - loss: 0.0111\n",
      "Epoch 2/100\n",
      " - 0s - loss: 0.0057\n",
      "Epoch 3/100\n",
      " - 0s - loss: 0.0051\n",
      "Epoch 4/100\n",
      " - 0s - loss: 0.0047\n",
      "Epoch 5/100\n",
      " - 0s - loss: 0.0043\n",
      "Epoch 6/100\n",
      " - 0s - loss: 0.0038\n",
      "Epoch 7/100\n",
      " - 0s - loss: 0.0034\n",
      "Epoch 8/100\n",
      " - 0s - loss: 0.0029\n",
      "Epoch 9/100\n",
      " - 0s - loss: 0.0025\n",
      "Epoch 10/100\n",
      " - 0s - loss: 0.0021\n",
      "Epoch 11/100\n",
      " - 0s - loss: 0.0019\n",
      "Epoch 12/100\n",
      " - 0s - loss: 0.0015\n",
      "Epoch 13/100\n",
      " - 0s - loss: 0.0014\n",
      "Epoch 14/100\n",
      " - 0s - loss: 0.0013\n",
      "Epoch 15/100\n",
      " - 0s - loss: 0.0012\n",
      "Epoch 16/100\n",
      " - 0s - loss: 0.0011\n",
      "Epoch 17/100\n",
      " - 0s - loss: 0.0011\n",
      "Epoch 18/100\n",
      " - 0s - loss: 0.0011\n",
      "Epoch 19/100\n",
      " - 0s - loss: 0.0011\n",
      "Epoch 20/100\n",
      " - 0s - loss: 0.0011\n",
      "Epoch 21/100\n",
      " - 0s - loss: 0.0010\n",
      "Epoch 22/100\n",
      " - 0s - loss: 0.0010\n",
      "Epoch 23/100\n",
      " - 0s - loss: 0.0010\n",
      "Epoch 24/100\n",
      " - 0s - loss: 0.0011\n",
      "Epoch 25/100\n",
      " - 0s - loss: 0.0010\n",
      "Epoch 26/100\n",
      " - 0s - loss: 0.0011\n",
      "Epoch 27/100\n",
      " - 0s - loss: 0.0010\n",
      "Epoch 28/100\n",
      " - 0s - loss: 0.0010\n",
      "Epoch 29/100\n",
      " - 0s - loss: 0.0011\n",
      "Epoch 30/100\n",
      " - 0s - loss: 0.0011\n",
      "Epoch 31/100\n",
      " - 0s - loss: 0.0011\n",
      "Epoch 32/100\n",
      " - 0s - loss: 0.0011\n",
      "Epoch 33/100\n",
      " - 0s - loss: 0.0011\n",
      "Epoch 34/100\n",
      " - 0s - loss: 0.0011\n",
      "Epoch 35/100\n",
      " - 0s - loss: 0.0010\n",
      "Epoch 36/100\n",
      " - 0s - loss: 0.0011\n",
      "Epoch 37/100\n",
      " - 0s - loss: 0.0010\n",
      "Epoch 38/100\n",
      " - 0s - loss: 0.0011\n",
      "Epoch 39/100\n",
      " - 0s - loss: 0.0010\n",
      "Epoch 40/100\n",
      " - 0s - loss: 0.0011\n",
      "Epoch 41/100\n",
      " - 0s - loss: 0.0011\n",
      "Epoch 42/100\n",
      " - 0s - loss: 0.0010\n",
      "Epoch 43/100\n",
      " - 0s - loss: 0.0011\n",
      "Epoch 44/100\n",
      " - 0s - loss: 0.0010\n",
      "Epoch 45/100\n",
      " - 0s - loss: 0.0010\n",
      "Epoch 46/100\n",
      " - 0s - loss: 0.0011\n",
      "Epoch 47/100\n",
      " - 0s - loss: 0.0010\n",
      "Epoch 48/100\n",
      " - 0s - loss: 0.0010\n",
      "Epoch 49/100\n",
      " - 0s - loss: 0.0011\n",
      "Epoch 50/100\n",
      " - 0s - loss: 0.0011\n",
      "Epoch 51/100\n",
      " - 0s - loss: 0.0011\n",
      "Epoch 52/100\n",
      " - 0s - loss: 0.0010\n",
      "Epoch 53/100\n",
      " - 0s - loss: 0.0010\n",
      "Epoch 54/100\n",
      " - 0s - loss: 0.0010\n",
      "Epoch 55/100\n",
      " - 0s - loss: 0.0010\n",
      "Epoch 56/100\n",
      " - 0s - loss: 0.0011\n",
      "Epoch 57/100\n",
      " - 0s - loss: 0.0010\n",
      "Epoch 58/100\n",
      " - 0s - loss: 0.0010\n",
      "Epoch 59/100\n",
      " - 0s - loss: 0.0010\n",
      "Epoch 60/100\n",
      " - 0s - loss: 0.0011\n",
      "Epoch 61/100\n",
      " - 0s - loss: 9.9545e-04\n",
      "Epoch 62/100\n",
      " - 0s - loss: 0.0011\n",
      "Epoch 63/100\n",
      " - 0s - loss: 0.0011\n",
      "Epoch 64/100\n",
      " - 0s - loss: 0.0010\n",
      "Epoch 65/100\n",
      " - 0s - loss: 0.0010\n",
      "Epoch 66/100\n",
      " - 0s - loss: 0.0010\n",
      "Epoch 67/100\n",
      " - 0s - loss: 0.0010\n",
      "Epoch 68/100\n",
      " - 0s - loss: 0.0011\n",
      "Epoch 69/100\n",
      " - 0s - loss: 0.0011\n",
      "Epoch 70/100\n",
      " - 0s - loss: 0.0010\n",
      "Epoch 71/100\n",
      " - 0s - loss: 0.0010\n",
      "Epoch 72/100\n",
      " - 0s - loss: 0.0010\n",
      "Epoch 73/100\n",
      " - 0s - loss: 0.0011\n",
      "Epoch 74/100\n",
      " - 0s - loss: 0.0011\n",
      "Epoch 75/100\n",
      " - 0s - loss: 0.0011\n",
      "Epoch 76/100\n",
      " - 0s - loss: 0.0011\n",
      "Epoch 77/100\n",
      " - 0s - loss: 0.0010\n",
      "Epoch 78/100\n",
      " - 0s - loss: 0.0010\n",
      "Epoch 79/100\n",
      " - 0s - loss: 0.0010\n",
      "Epoch 80/100\n",
      " - 0s - loss: 0.0011\n",
      "Epoch 81/100\n",
      " - 0s - loss: 0.0010\n",
      "Epoch 82/100\n",
      " - 0s - loss: 0.0011\n",
      "Epoch 83/100\n",
      " - 0s - loss: 0.0011\n",
      "Epoch 84/100\n",
      " - 0s - loss: 0.0010\n",
      "Epoch 85/100\n",
      " - 0s - loss: 0.0011\n",
      "Epoch 86/100\n",
      " - 0s - loss: 0.0011\n",
      "Epoch 87/100\n",
      " - 0s - loss: 0.0011\n",
      "Epoch 88/100\n",
      " - 0s - loss: 0.0010\n",
      "Epoch 89/100\n",
      " - 0s - loss: 0.0010\n",
      "Epoch 90/100\n",
      " - 0s - loss: 0.0010\n",
      "Epoch 91/100\n",
      " - 0s - loss: 0.0011\n",
      "Epoch 92/100\n",
      " - 0s - loss: 0.0010\n",
      "Epoch 93/100\n",
      " - 0s - loss: 0.0011\n",
      "Epoch 94/100\n",
      " - 0s - loss: 0.0010\n",
      "Epoch 95/100\n",
      " - 0s - loss: 0.0011\n",
      "Epoch 96/100\n",
      " - 0s - loss: 0.0010\n",
      "Epoch 97/100\n",
      " - 0s - loss: 0.0010\n",
      "Epoch 98/100\n",
      " - 0s - loss: 0.0011\n",
      "Epoch 99/100\n",
      " - 0s - loss: 0.0011\n",
      "Epoch 100/100\n",
      " - 0s - loss: 0.0011\n"
     ]
    },
    {
     "data": {
      "text/plain": [
       "<keras.callbacks.History at 0x1306adf28>"
      ]
     },
     "execution_count": 109,
     "metadata": {},
     "output_type": "execute_result"
    }
   ],
   "source": [
    "# create and fit the LSTM network\n",
    "model = Sequential()\n",
    "model.add(LSTM(4, input_shape=(1, look_back)))\n",
    "model.add(Dense(1))\n",
    "model.compile(loss='mean_squared_error', optimizer='adam')\n",
    "model.fit(trainX, trainY, epochs=100, batch_size=1, verbose=2)"
   ]
  },
  {
   "cell_type": "code",
   "execution_count": 110,
   "metadata": {},
   "outputs": [
    {
     "name": "stdout",
     "output_type": "stream",
     "text": [
      "Train Score: 34032428.89 RMSE\n",
      "Test Score: 90389924.75 RMSE\n"
     ]
    }
   ],
   "source": [
    "# make predictions\n",
    "trainPredict = model.predict(trainX)\n",
    "testPredict = model.predict(testX)\n",
    "# invert predictions\n",
    "trainPredict = scaler.inverse_transform(trainPredict)\n",
    "trainY = scaler.inverse_transform([trainY])\n",
    "testPredict = scaler.inverse_transform(testPredict)\n",
    "testY = scaler.inverse_transform([testY])\n",
    "# calculate root mean squared error\n",
    "trainScore = math.sqrt(mean_squared_error(trainY[0], trainPredict[:,0]))\n",
    "print('Train Score: %.2f RMSE' % (trainScore))\n",
    "testScore = math.sqrt(mean_squared_error(testY[0], testPredict[:,0]))\n",
    "print('Test Score: %.2f RMSE' % (testScore))"
   ]
  },
  {
   "cell_type": "code",
   "execution_count": 115,
   "metadata": {},
   "outputs": [
    {
     "data": {
      "image/png": "[encoded data removed]",
      "text/plain": [
       "<Figure size 432x288 with 1 Axes>"
      ]
     },
     "metadata": {},
     "output_type": "display_data"
    }
   ],
   "source": [
    "# shift train predictions for plotting\n",
    "trainPredictPlot = numpy.empty_like(dataset)\n",
    "trainPredictPlot[:, :] = numpy.nan\n",
    "trainPredictPlot[look_back:len(trainPredict)+look_back, :] = trainPredict\n",
    "# shift test predictions for plotting\n",
    "testPredictPlot = numpy.empty_like(dataset)\n",
    "testPredictPlot[:, :] = numpy.nan\n",
    "testPredictPlot[len(trainPredict)+(look_back*2)+1:len(dataset)-1, :] = testPredict\n",
    "# plot baseline and predictions\n",
    "plt.plot(scaler.inverse_transform(dataset), label = 'views')\n",
    "plt.plot(trainPredictPlot, label ='train')\n",
    "plt.plot(testPredictPlot,label = 'test')\n",
    "plt.title('Youtube Trending Video Views')\n",
    "plt.legend()\n",
    "plt.show()"
   ]
  },
  {
   "cell_type": "code",
   "execution_count": 22,
   "metadata": {
    "collapsed": true
   },
   "outputs": [],
   "source": [
    "import scipy"
   ]
  },
  {
   "cell_type": "code",
   "execution_count": 26,
   "metadata": {},
   "outputs": [
    {
     "data": {
      "text/html": [
       "<div>\n",
       "<style>\n",
       "    .dataframe thead tr:only-child th {\n",
       "        text-align: right;\n",
       "    }\n",
       "\n",
       "    .dataframe thead th {\n",
       "        text-align: left;\n",
       "    }\n",
       "\n",
       "    .dataframe tbody tr th {\n",
       "        vertical-align: top;\n",
       "    }\n",
       "</style>\n",
       "<table border=\"1\" class=\"dataframe\">\n",
       "  <thead>\n",
       "    <tr style=\"text-align: right;\">\n",
       "      <th></th>\n",
       "      <th>views</th>\n",
       "    </tr>\n",
       "    <tr>\n",
       "      <th>Date</th>\n",
       "      <th></th>\n",
       "    </tr>\n",
       "  </thead>\n",
       "  <tbody>\n",
       "    <tr>\n",
       "      <th>2017-11-14</th>\n",
       "      <td>185435246</td>\n",
       "    </tr>\n",
       "    <tr>\n",
       "      <th>2017-11-15</th>\n",
       "      <td>212445216</td>\n",
       "    </tr>\n",
       "    <tr>\n",
       "      <th>2017-11-16</th>\n",
       "      <td>227365391</td>\n",
       "    </tr>\n",
       "    <tr>\n",
       "      <th>2017-11-17</th>\n",
       "      <td>193541711</td>\n",
       "    </tr>\n",
       "    <tr>\n",
       "      <th>2017-11-18</th>\n",
       "      <td>196846875</td>\n",
       "    </tr>\n",
       "  </tbody>\n",
       "</table>\n",
       "</div>"
      ],
      "text/plain": [
       "                views\n",
       "Date                 \n",
       "2017-11-14  185435246\n",
       "2017-11-15  212445216\n",
       "2017-11-16  227365391\n",
       "2017-11-17  193541711\n",
       "2017-11-18  196846875"
      ]
     },
     "execution_count": 26,
     "metadata": {},
     "output_type": "execute_result"
    }
   ],
   "source": [
    "daily_views.head()"
   ]
  },
  {
   "cell_type": "code",
   "execution_count": 27,
   "metadata": {
    "collapsed": true
   },
   "outputs": [],
   "source": [
    "daily_views.to_csv('latest.csv')"
   ]
  },
  {
   "cell_type": "code",
   "execution_count": 10,
   "metadata": {
    "collapsed": true
   },
   "outputs": [],
   "source": [
    "from pandas import Series\n",
    "series = Series.from_csv('latest.csv', header=0)"
   ]
  },
  {
   "cell_type": "code",
   "execution_count": 11,
   "metadata": {},
   "outputs": [
    {
     "name": "stdout",
     "output_type": "stream",
     "text": [
      "Dataset 196, Validation 12\n"
     ]
    }
   ],
   "source": [
    "from pandas import Series\n",
    "series = Series.from_csv('latest.csv', header=0)\n",
    "split_point = len(series) - 12\n",
    "dataset, validation = series[0:split_point], series[split_point:]\n",
    "print('Dataset %d, Validation %d' % (len(dataset), len(validation)))\n",
    "dataset.to_csv('dataset.csv')\n",
    "validation.to_csv('validation.csv')"
   ]
  },
  {
   "cell_type": "code",
   "execution_count": 12,
   "metadata": {},
   "outputs": [
    {
     "name": "stdout",
     "output_type": "stream",
     "text": [
      "ADF Statistic: -4.145927\n",
      "p-value: 0.000812\n",
      "Critical Values:\n",
      "\t1%: -3.467\n",
      "\t5%: -2.878\n",
      "\t10%: -2.575\n"
     ]
    }
   ],
   "source": [
    "from pandas import Series\n",
    "from statsmodels.tsa.stattools import adfuller\n",
    "\n",
    "# create a differe\n",
    "def difference(dataset):\n",
    "\tdiff = list()\n",
    "\tfor i in range(1, len(dataset)):\n",
    "\t\tvalue = dataset[i] - dataset[i - 1]\n",
    "\t\tdiff.append(value)\n",
    "\treturn Series(diff)\n",
    "\n",
    "series = Series.from_csv('dataset.csv')\n",
    "X = series.values\n",
    "# difference data\n",
    "stationary = difference(X)\n",
    "stationary.index = series.index[1:]\n",
    "# check if stationary\n",
    "result = adfuller(stationary)\n",
    "print('ADF Statistic: %f' % result[0])\n",
    "print('p-value: %f' % result[1])\n",
    "print('Critical Values:')\n",
    "for key, value in result[4].items():\n",
    "\tprint('\\t%s: %.3f' % (key, value))\n",
    "# save\n",
    "stationary.to_csv('stationary.csv')"
   ]
  },
  {
   "cell_type": "code",
   "execution_count": 13,
   "metadata": {},
   "outputs": [
    {
     "data": {
      "image/png": "[encoded data removed]",
      "text/plain": [
       "<Figure size 432x288 with 2 Axes>"
      ]
     },
     "metadata": {},
     "output_type": "display_data"
    }
   ],
   "source": [
    "from pandas import Series\n",
    "from statsmodels.graphics.tsaplots import plot_acf\n",
    "from statsmodels.graphics.tsaplots import plot_pacf\n",
    "from matplotlib import pyplot\n",
    "series = Series.from_csv('stationary.csv')\n",
    "pyplot.figure()\n",
    "pyplot.subplot(211)\n",
    "plot_acf(series, ax=pyplot.gca())\n",
    "pyplot.subplot(212)\n",
    "plot_pacf(series, ax=pyplot.gca())\n",
    "pyplot.show()"
   ]
  },
  {
   "cell_type": "code",
   "execution_count": 97,
   "metadata": {},
   "outputs": [
    {
     "name": "stderr",
     "output_type": "stream",
     "text": [
      "/Users/stephanier/anaconda/lib/python3.6/site-packages/statsmodels/tsa/kalmanf/kalmanfilter.py:646: FutureWarning: Conversion of the second argument of issubdtype from `float` to `np.floating` is deprecated. In future, it will be treated as `np.float64 == np.dtype(float).type`.\n",
      "  if issubdtype(paramsdtype, float):\n",
      "/Users/stephanier/anaconda/lib/python3.6/site-packages/statsmodels/tsa/kalmanf/kalmanfilter.py:650: FutureWarning: Conversion of the second argument of issubdtype from `complex` to `np.complexfloating` is deprecated. In future, it will be treated as `np.complex128 == np.dtype(complex).type`.\n",
      "  elif issubdtype(paramsdtype, complex):\n",
      "/Users/stephanier/anaconda/lib/python3.6/site-packages/statsmodels/tsa/kalmanf/kalmanfilter.py:577: FutureWarning: Conversion of the second argument of issubdtype from `float` to `np.floating` is deprecated. In future, it will be treated as `np.float64 == np.dtype(float).type`.\n",
      "  if issubdtype(paramsdtype, float):\n",
      "/Users/stephanier/anaconda/lib/python3.6/site-packages/scipy/signal/signaltools.py:1367: FutureWarning: Using a non-tuple sequence for multidimensional indexing is deprecated; use `arr[tuple(seq)]` instead of `arr[seq]`. In the future this will be interpreted as an array index, `arr[np.array(seq)]`, which will result either in an error or a different result.\n",
      "  out = out_full[ind]\n"
     ]
    },
    {
     "name": "stdout",
     "output_type": "stream",
     "text": [
      ">Predicted=20.049, Expected= 20\n",
      ">Predicted=20.049, Expected= 20\n",
      ">Predicted=20.049, Expected= 20\n",
      ">Predicted=19.891, Expected= 20\n",
      ">Predicted=19.910, Expected= 20\n",
      ">Predicted=19.640, Expected= 20\n"
     ]
    },
    {
     "name": "stderr",
     "output_type": "stream",
     "text": [
      "/Users/stephanier/anaconda/lib/python3.6/site-packages/statsmodels/base/model.py:496: ConvergenceWarning: Maximum Likelihood optimization failed to converge. Check mle_retvals\n",
      "  \"Check mle_retvals\", ConvergenceWarning)\n"
     ]
    },
    {
     "name": "stdout",
     "output_type": "stream",
     "text": [
      ">Predicted=19.704, Expected= 20\n",
      ">Predicted=19.558, Expected= 20\n",
      ">Predicted=19.639, Expected= 20\n",
      ">Predicted=19.694, Expected= 20\n",
      ">Predicted=19.729, Expected= 20\n",
      ">Predicted=19.767, Expected= 20\n",
      ">Predicted=19.783, Expected= 20\n",
      ">Predicted=19.825, Expected= 20\n",
      ">Predicted=19.867, Expected= 20\n",
      ">Predicted=19.863, Expected= 20\n",
      ">Predicted=20.136, Expected= 20\n",
      ">Predicted=20.178, Expected= 20\n",
      ">Predicted=20.255, Expected= 20\n",
      ">Predicted=20.271, Expected= 20\n",
      ">Predicted=20.322, Expected= 20\n",
      ">Predicted=20.312, Expected= 20\n",
      ">Predicted=20.323, Expected= 20\n",
      ">Predicted=20.306, Expected= 20\n",
      ">Predicted=20.348, Expected= 20\n",
      ">Predicted=20.368, Expected= 20\n",
      ">Predicted=20.393, Expected= 20\n",
      ">Predicted=20.428, Expected= 20\n",
      ">Predicted=20.510, Expected= 21\n",
      ">Predicted=20.585, Expected= 20\n",
      ">Predicted=20.477, Expected= 21\n",
      ">Predicted=20.548, Expected= 21\n",
      ">Predicted=20.541, Expected= 20\n",
      ">Predicted=20.517, Expected= 20\n",
      ">Predicted=20.410, Expected= 20\n",
      ">Predicted=20.470, Expected= 20\n",
      ">Predicted=20.459, Expected= 20\n",
      ">Predicted=20.511, Expected= 21\n",
      ">Predicted=20.564, Expected= 21\n",
      ">Predicted=20.629, Expected= 21\n",
      ">Predicted=20.684, Expected= 21\n",
      ">Predicted=20.750, Expected= 20\n",
      ">Predicted=20.465, Expected= 21\n",
      ">Predicted=20.526, Expected= 20\n",
      ">Predicted=20.488, Expected= 20\n",
      ">Predicted=20.457, Expected= 21\n",
      ">Predicted=20.867, Expected= 21\n",
      ">Predicted=20.619, Expected= 20\n",
      ">Predicted=20.461, Expected= 20\n",
      ">Predicted=20.486, Expected= 21\n",
      ">Predicted=20.560, Expected= 21\n",
      ">Predicted=20.657, Expected= 21\n",
      ">Predicted=20.732, Expected= 21\n",
      ">Predicted=20.747, Expected= 21\n",
      ">Predicted=20.804, Expected= 21\n",
      ">Predicted=20.855, Expected= 21\n",
      ">Predicted=20.866, Expected= 21\n",
      ">Predicted=20.911, Expected= 21\n",
      ">Predicted=20.859, Expected= 21\n",
      ">Predicted=20.741, Expected= 21\n",
      ">Predicted=20.870, Expected= 21\n",
      ">Predicted=20.935, Expected= 21\n",
      ">Predicted=20.847, Expected= 21\n",
      ">Predicted=20.876, Expected= 21\n",
      ">Predicted=20.932, Expected= 21\n",
      "RMSE: 0.104\n"
     ]
    },
    {
     "name": "stderr",
     "output_type": "stream",
     "text": [
      "/Users/stephanier/anaconda/lib/python3.6/site-packages/statsmodels/base/model.py:496: ConvergenceWarning: Maximum Likelihood optimization failed to converge. Check mle_retvals\n",
      "  \"Check mle_retvals\", ConvergenceWarning)\n"
     ]
    }
   ],
   "source": [
    "from pandas import Series\n",
    "from sklearn.metrics import mean_squared_error\n",
    "from statsmodels.tsa.arima_model import ARIMA\n",
    "from math import sqrt\n",
    "# load data\n",
    "series = Series.from_csv('dataset.csv')\n",
    "series = np.log(series)\n",
    "# prepare data\n",
    "X = series.values\n",
    "X = X.astype('float32')\n",
    "train_size = int(len(X) * 0.67)\n",
    "train, test = X[0:train_size], X[train_size:]\n",
    "# walk-forward validation\n",
    "history = [x for x in train]\n",
    "predictions = list()\n",
    "for i in range(len(test)):\n",
    "\t# predict\n",
    "\tmodel = ARIMA(history, order=(0,2,1))\n",
    "\tmodel_fit = model.fit(disp=0)\n",
    "\tyhat = model_fit.forecast()[0]\n",
    "\tpredictions.append(yhat)\n",
    "\t# observation\n",
    "\tobs = test[i]\n",
    "\thistory.append(obs)\n",
    "\tprint('>Predicted=%.3f, Expected=%3.f' % (yhat, obs))\n",
    "# report performance\n",
    "mse = mean_squared_error(test, predictions)\n",
    "rmse = sqrt(mse)\n",
    "print('RMSE: %.3f' % rmse)"
   ]
  },
  {
   "cell_type": "code",
   "execution_count": 98,
   "metadata": {},
   "outputs": [],
   "source": [
    "#change predictions back to original units to compare models\n",
    "pred = np.exp(predictions)\n",
    "check = np.exp(test)\n",
    "#pred = format(pred, 'f')\n",
    "predy = []\n",
    "checky = []\n",
    "#type(pred)\n",
    "#c = np.concatenate(pred)\n",
    "#print('%f' % pred)\n",
    "for element in pred:\n",
    "    val = '%i' % element\n",
    "    predy.append(float(val))\n",
    "#get the rmse for the test data    \n",
    "for element in check:\n",
    "    val = '%i' % element\n",
    "    checky.append(float(val))\n",
    "predy\n",
    "\n",
    "from sklearn.metrics import mean_squared_error\n",
    "from math import sqrt\n",
    "#get rmse of test data\n",
    "rms = sqrt(mean_squared_error(checky, predy))"
   ]
  },
  {
   "cell_type": "code",
   "execution_count": 72,
   "metadata": {},
   "outputs": [
    {
     "data": {
      "text/plain": [
       "85801576.64324833"
      ]
     },
     "execution_count": 72,
     "metadata": {},
     "output_type": "execute_result"
    }
   ],
   "source": [
    "rms\n"
   ]
  },
  {
   "cell_type": "code",
   "execution_count": 87,
   "metadata": {},
   "outputs": [
    {
     "data": {
      "text/plain": [
       "131"
      ]
     },
     "execution_count": 87,
     "metadata": {},
     "output_type": "execute_result"
    }
   ],
   "source": [
    "len(train)"
   ]
  },
  {
   "cell_type": "code",
   "execution_count": 99,
   "metadata": {},
   "outputs": [
    {
     "name": "stderr",
     "output_type": "stream",
     "text": [
      "/Users/stephanier/anaconda/lib/python3.6/site-packages/statsmodels/tsa/kalmanf/kalmanfilter.py:577: FutureWarning: Conversion of the second argument of issubdtype from `float` to `np.floating` is deprecated. In future, it will be treated as `np.float64 == np.dtype(float).type`.\n",
      "  if issubdtype(paramsdtype, float):\n"
     ]
    }
   ],
   "source": [
    "#check the rms on the training data\n",
    "forecast = model_fit.predict()\n",
    "predy = forecast[0:131]"
   ]
  },
  {
   "cell_type": "code",
   "execution_count": 100,
   "metadata": {},
   "outputs": [],
   "source": [
    "#change predictions back to original units to compare models\n",
    "pred2 = np.exp(predy)\n",
    "check2 = np.exp(train)\n",
    "#pred = format(pred, 'f')\n",
    "predy2 = []\n",
    "checky2 = []\n",
    "#type(pred)\n",
    "#c = np.concatenate(pred)\n",
    "#print('%f' % pred)\n",
    "for element in pred2:\n",
    "    val = '%i' % element\n",
    "    predy2.append(float(val))\n",
    "#get the rmse for the test data    \n",
    "for element in check2:\n",
    "    val = '%i' % element\n",
    "    checky2.append(float(val))\n",
    "\n",
    "from sklearn.metrics import mean_squared_error\n",
    "from math import sqrt\n",
    "#get rmse of test data\n",
    "rms = sqrt(mean_squared_error(checky2, predy2))"
   ]
  },
  {
   "cell_type": "code",
   "execution_count": 101,
   "metadata": {},
   "outputs": [
    {
     "data": {
      "text/plain": [
       "295440645.46641815"
      ]
     },
     "execution_count": 101,
     "metadata": {},
     "output_type": "execute_result"
    }
   ],
   "source": [
    "rms"
   ]
  },
  {
   "cell_type": "code",
   "execution_count": null,
   "metadata": {},
   "outputs": [
    {
     "name": "stdout",
     "output_type": "stream",
     "text": [
      "ARIMA(0, 0, 0) MSE=0.885\n",
      "ARIMA(0, 0, 1) MSE=0.497\n",
      "ARIMA(0, 1, 0) MSE=0.103\n",
      "ARIMA(0, 1, 1) MSE=0.107\n",
      "ARIMA(0, 1, 2) MSE=0.107\n",
      "ARIMA(0, 1, 3) MSE=0.110\n",
      "ARIMA(0, 1, 4) MSE=0.110\n",
      "ARIMA(0, 1, 5) MSE=0.109\n",
      "ARIMA(0, 1, 6) MSE=0.118\n",
      "ARIMA(0, 1, 7) MSE=0.121\n",
      "ARIMA(0, 1, 8) MSE=0.122\n",
      "ARIMA(0, 1, 9) MSE=0.122\n"
     ]
    }
   ],
   "source": [
    "import warnings\n",
    "from pandas import Series\n",
    "from statsmodels.tsa.arima_model import ARIMA\n",
    "from sklearn.metrics import mean_squared_error\n",
    "from math import sqrt\n",
    "\n",
    "# evaluate an ARIMA model for a given order (p,d,q) and return RMSE\n",
    "def evaluate_arima_model(X, arima_order):\n",
    "\t# prepare training dataset\n",
    "\tX = X.astype('float32')\n",
    "\ttrain_size = int(len(X) * 0.67)\n",
    "\ttrain, test = X[0:train_size], X[train_size:]\n",
    "\thistory = [x for x in train]\n",
    "\t# make predictions\n",
    "\tpredictions = list()\n",
    "\tfor t in range(len(test)):\n",
    "\t\tmodel = ARIMA(history, order=arima_order)\n",
    "\t\tmodel_fit = model.fit(disp=0)\n",
    "\t\tyhat = model_fit.forecast()[0]\n",
    "\t\tpredictions.append(yhat)\n",
    "\t\thistory.append(test[t])\n",
    "\t# calculate out of sample error\n",
    "\tmse = mean_squared_error(test, predictions)\n",
    "\trmse = sqrt(mse)\n",
    "\treturn rmse\n",
    "\n",
    "# evaluate combinations of p, d and q values for an ARIMA model\n",
    "def evaluate_models(dataset, p_values, d_values, q_values):\n",
    "\tdataset = dataset.astype('float32')\n",
    "\tbest_score, best_cfg = float(\"inf\"), None\n",
    "\tfor p in p_values:\n",
    "\t\tfor d in d_values:\n",
    "\t\t\tfor q in q_values:\n",
    "\t\t\t\torder = (p,d,q)\n",
    "\t\t\t\ttry:\n",
    "\t\t\t\t\tmse = evaluate_arima_model(dataset, order)\n",
    "\t\t\t\t\tif mse < best_score:\n",
    "\t\t\t\t\t\tbest_score, best_cfg = mse, order\n",
    "\t\t\t\t\tprint('ARIMA%s MSE=%.3f' % (order,mse))\n",
    "\t\t\t\texcept:\n",
    "\t\t\t\t\tcontinue\n",
    "\tprint('Best ARIMA%s MSE=%.3f' % (best_cfg, best_score))\n",
    "\n",
    "# load dataset\n",
    "series = Series.from_csv('dataset.csv')\n",
    "series = np.log(series)\n",
    "# evaluate parameters\n",
    "p_values = range(0,13)\n",
    "d_values = range(0, 4)\n",
    "q_values = range(0, 13)\n",
    "warnings.filterwarnings(\"ignore\")\n",
    "evaluate_models(series.values, p_values, d_values, q_values)"
   ]
  },
  {
   "cell_type": "code",
   "execution_count": null,
   "metadata": {},
   "outputs": [
    {
     "name": "stdout",
     "output_type": "stream",
     "text": [
      "ARIMA(0, 0, 0) MSE=391135007.088\n",
      "ARIMA(0, 0, 1) MSE=220978449.186\n",
      "ARIMA(0, 1, 0) MSE=70194511.424\n",
      "ARIMA(0, 1, 1) MSE=70701228.220\n",
      "ARIMA(0, 1, 2) MSE=71248517.798\n",
      "ARIMA(0, 1, 3) MSE=73170176.365\n",
      "ARIMA(0, 1, 4) MSE=72626115.559\n",
      "ARIMA(0, 1, 5) MSE=73771448.489\n",
      "ARIMA(0, 1, 6) MSE=74434488.587\n",
      "ARIMA(0, 1, 7) MSE=78091286.106\n",
      "ARIMA(0, 1, 8) MSE=78617359.507\n",
      "ARIMA(0, 1, 9) MSE=76395499.626\n",
      "ARIMA(0, 1, 10) MSE=77643388.542\n",
      "ARIMA(0, 1, 11) MSE=78578169.991\n",
      "ARIMA(0, 1, 12) MSE=78175665.788\n",
      "ARIMA(0, 2, 0) MSE=108158546.502\n",
      "ARIMA(0, 2, 1) MSE=74557653.766\n",
      "ARIMA(1, 0, 0) MSE=72092889.987\n",
      "ARIMA(1, 1, 0) MSE=71384449.890\n",
      "ARIMA(1, 2, 0) MSE=96746778.623\n",
      "ARIMA(1, 2, 1) MSE=75816363.633\n",
      "ARIMA(1, 2, 3) MSE=75910780.787\n",
      "ARIMA(2, 1, 0) MSE=71607748.670\n",
      "ARIMA(2, 2, 0) MSE=86177092.640\n",
      "ARIMA(2, 2, 1) MSE=75886354.571\n",
      "ARIMA(3, 1, 0) MSE=72032834.504\n",
      "ARIMA(3, 2, 0) MSE=88014024.794\n",
      "ARIMA(3, 2, 1) MSE=76044531.389\n",
      "ARIMA(4, 1, 0) MSE=73832474.278\n",
      "ARIMA(4, 2, 0) MSE=84214164.464\n",
      "ARIMA(4, 2, 1) MSE=76511771.451\n",
      "ARIMA(5, 0, 0) MSE=76404391.065\n",
      "ARIMA(5, 1, 0) MSE=74726481.951\n",
      "ARIMA(5, 1, 1) MSE=73948331.875\n",
      "ARIMA(5, 2, 0) MSE=81010248.703\n",
      "ARIMA(5, 2, 1) MSE=78628620.233\n",
      "ARIMA(6, 0, 0) MSE=77073466.866\n",
      "ARIMA(6, 1, 0) MSE=75054939.988\n",
      "ARIMA(6, 1, 1) MSE=76093194.728\n",
      "ARIMA(6, 2, 0) MSE=81410580.236\n",
      "ARIMA(6, 2, 1) MSE=79914247.604\n",
      "ARIMA(7, 0, 0) MSE=77465539.740\n",
      "ARIMA(7, 1, 0) MSE=75787199.305\n",
      "ARIMA(7, 1, 1) MSE=76809826.646\n",
      "ARIMA(7, 1, 2) MSE=78298393.203\n",
      "ARIMA(7, 1, 3) MSE=76599421.513\n",
      "ARIMA(7, 2, 0) MSE=82158695.173\n",
      "ARIMA(7, 2, 1) MSE=80251187.318\n",
      "ARIMA(8, 0, 0) MSE=78518960.270\n",
      "ARIMA(8, 1, 0) MSE=77048608.366\n",
      "ARIMA(8, 1, 1) MSE=78643874.429\n",
      "ARIMA(8, 2, 0) MSE=82383500.844\n",
      "ARIMA(8, 2, 1) MSE=81118799.159\n",
      "ARIMA(9, 1, 0) MSE=78103144.004\n",
      "ARIMA(9, 1, 1) MSE=78066904.192\n",
      "ARIMA(9, 1, 2) MSE=78681985.096\n",
      "ARIMA(9, 2, 0) MSE=82919922.041\n",
      "ARIMA(9, 2, 1) MSE=81629323.586\n",
      "ARIMA(10, 1, 0) MSE=78327636.777\n",
      "ARIMA(10, 1, 1) MSE=78498739.003\n",
      "ARIMA(10, 2, 0) MSE=82935009.642\n",
      "ARIMA(10, 2, 1) MSE=81987808.622\n"
     ]
    }
   ],
   "source": [
    "import warnings\n",
    "from pandas import Series\n",
    "from statsmodels.tsa.arima_model import ARIMA\n",
    "from sklearn.metrics import mean_squared_error\n",
    "from math import sqrt\n",
    "\n",
    "# evaluate an ARIMA model for a given order (p,d,q) and return RMSE\n",
    "def evaluate_arima_model(X, arima_order):\n",
    "\t# prepare training dataset\n",
    "\tX = X.astype('float32')\n",
    "\ttrain_size = int(len(X) * 0.50)\n",
    "\ttrain, test = X[0:train_size], X[train_size:]\n",
    "\thistory = [x for x in train]\n",
    "\t# make predictions\n",
    "\tpredictions = list()\n",
    "\tfor t in range(len(test)):\n",
    "\t\tmodel = ARIMA(history, order=arima_order)\n",
    "\t\tmodel_fit = model.fit(disp=0)\n",
    "\t\tyhat = model_fit.forecast()[0]\n",
    "\t\tpredictions.append(yhat)\n",
    "\t\thistory.append(test[t])\n",
    "\t# calculate out of sample error\n",
    "\tmse = mean_squared_error(test, predictions)\n",
    "\trmse = sqrt(mse)\n",
    "\treturn rmse\n",
    "\n",
    "# evaluate combinations of p, d and q values for an ARIMA model\n",
    "def evaluate_models(dataset, p_values, d_values, q_values):\n",
    "\tdataset = dataset.astype('float32')\n",
    "\tbest_score, best_cfg = float(\"inf\"), None\n",
    "\tfor p in p_values:\n",
    "\t\tfor d in d_values:\n",
    "\t\t\tfor q in q_values:\n",
    "\t\t\t\torder = (p,d,q)\n",
    "\t\t\t\ttry:\n",
    "\t\t\t\t\tmse = evaluate_arima_model(dataset, order)\n",
    "\t\t\t\t\tif mse < best_score:\n",
    "\t\t\t\t\t\tbest_score, best_cfg = mse, order\n",
    "\t\t\t\t\tprint('ARIMA%s MSE=%.3f' % (order,mse))\n",
    "\t\t\t\texcept:\n",
    "\t\t\t\t\tcontinue\n",
    "\tprint('Best ARIMA%s MSE=%.3f' % (best_cfg, best_score))\n",
    "\n",
    "# load dataset\n",
    "series = Series.from_csv('dataset.csv')\n",
    "# evaluate parameters\n",
    "p_values = range(0,13)\n",
    "d_values = range(0, 4)\n",
    "q_values = range(0, 13)\n",
    "warnings.filterwarnings(\"ignore\")\n",
    "evaluate_models(series.values, p_values, d_values, q_values)"
   ]
  }
 ],
 "metadata": {
  "kernelspec": {
   "display_name": "Python 3",
   "language": "python",
   "name": "python3"
  },
  "language_info": {
   "codemirror_mode": {
    "name": "ipython",
    "version": 3
   },
   "file_extension": ".py",
   "mimetype": "text/x-python",
   "name": "python",
   "nbconvert_exporter": "python",
   "pygments_lexer": "ipython3",
   "version": "3.6.5"
  }
 },
 "nbformat": 4,
 "nbformat_minor": 2
}
